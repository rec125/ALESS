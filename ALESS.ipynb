{
  "nbformat": 4,
  "nbformat_minor": 0,
  "metadata": {
    "colab": {
      "provenance": []
    },
    "kernelspec": {
      "name": "python3",
      "display_name": "Python 3"
    },
    "language_info": {
      "name": "python"
    }
  },
  "cells": [
    {
      "cell_type": "code",
      "execution_count": 135,
      "metadata": {
        "colab": {
          "base_uri": "https://localhost:8080/"
        },
        "id": "L_VdcjkZEAja",
        "outputId": "5407b2c6-8a42-47b8-ee30-a24cbe008394"
      },
      "outputs": [
        {
          "output_type": "stream",
          "name": "stdout",
          "text": [
            "Requirement already satisfied: deap in /usr/local/lib/python3.10/dist-packages (1.4.1)\n",
            "Requirement already satisfied: numpy in /usr/local/lib/python3.10/dist-packages (from deap) (1.25.2)\n"
          ]
        }
      ],
      "source": [
        "!pip install deap\n",
        "import deap\n",
        "import random\n",
        "from deap import creator, base, tools, algorithms"
      ]
    },
    {
      "cell_type": "code",
      "source": [
        "nodes = 8\n",
        "start_node = 0\n",
        "end_node = 6\n",
        "cost = {}\n",
        "graph = [[] for i in range(nodes)]\n",
        "\n",
        "creator.create(\"Individual\", list, fitness = creator.FitnessMax)\n"
      ],
      "metadata": {
        "id": "uDPANDB3r7yS"
      },
      "execution_count": 136,
      "outputs": []
    },
    {
      "cell_type": "code",
      "source": [
        "cost[(0,1)] = 35\n",
        "cost[(1,0)] = 35\n",
        "cost[(1,2)] = 19\n",
        "cost[(2,1)] = 19\n",
        "cost[(2,3)] = 15\n",
        "cost[(3,2)] = 15\n",
        "cost[(3,4)] = 35\n",
        "cost[(4,3)] = 35\n",
        "cost[(0,4)] = 34\n",
        "cost[(4,0)] = 34\n",
        "cost[(2,5)] = 30\n",
        "cost[(5,2)] = 30\n",
        "cost[(5,6)] = 28\n",
        "cost[(6,5)] = 28\n",
        "cost[(3,7)] = 12\n",
        "cost[(7,3)] = 12\n",
        "cost[(6,7)] = 30\n",
        "cost[(7,6)] = 30\n",
        "\n",
        "graph[0].append([1,35])\n",
        "graph[1].append([0,35])\n",
        "graph[1].append([2,19])\n",
        "graph[2].append([1,19])\n",
        "graph[2].append([3,15])\n",
        "graph[3].append([2,15])\n",
        "graph[3].append([4,35])\n",
        "graph[4].append([3,35])\n",
        "graph[0].append([4,34])\n",
        "graph[4].append([0,34])\n",
        "graph[2].append([5,30])\n",
        "graph[5].append([2,30])\n",
        "graph[5].append([6,28])\n",
        "graph[6].append([5,28])\n",
        "graph[3].append([7,12])\n",
        "graph[7].append([3,12])\n",
        "graph[6].append([7,30])\n",
        "graph[7].append([6,30])"
      ],
      "metadata": {
        "id": "c9C24n5Xr85a"
      },
      "execution_count": 137,
      "outputs": []
    },
    {
      "cell_type": "code",
      "source": [
        "def init_individual(icls):\n",
        "  current_node = start_node\n",
        "  result = [-1 for i in range(nodes)]\n",
        "  path = [current_node]\n",
        "\n",
        "  while current_node != end_node:\n",
        "      next_node = graph[current_node][random.randint(0, len(graph[current_node])-1)][0]\n",
        "      if next_node in path:\n",
        "        for i in range(len(path)):\n",
        "          if path[len(path)-1]==next_node:\n",
        "            path.pop(len(path)-1)\n",
        "            break\n",
        "          else: path.pop(len(path)-1)\n",
        "        current_node = next_node\n",
        "        continue\n",
        "      result[current_node] = next_node\n",
        "      path.append(next_node)\n",
        "      current_node = next_node\n",
        "  for i in range(nodes):\n",
        "    if result[i]==-1:\n",
        "      result[i]=graph[i][random.randint(0, len(graph[i])-1)][0]\n",
        "  return icls(result)\n",
        "\n",
        "def fitness(individual):\n",
        "  ind=start_node\n",
        "  path_length = 0\n",
        "  visited=[0 for i in range(nodes)]\n",
        "  while ind!=end_node:\n",
        "    visited[ind]=1\n",
        "    path_length+=cost[(ind,individual[ind])]\n",
        "    if visited[individual[ind]]==1:\n",
        "      path_length=1e9\n",
        "      break\n",
        "    ind=individual[ind]\n",
        "  return 1.0 / path_length,\n",
        "\n",
        "def mutate(individual):\n",
        "  pos = random.randint(0, nodes-1)\n",
        "  individual[pos]=graph[pos][random.randint(0, len(graph[pos])-1)][0]\n",
        "  return individual,\n",
        "\n",
        "toolbox = base.Toolbox()\n",
        "toolbox.register(\"individual\", init_individual, creator.Individual)\n",
        "toolbox.register(\"population\", tools.initRepeat, list, toolbox.individual)\n",
        "toolbox.register(\"select\", tools.selTournament, tournsize=5)#トーナメント方式\n",
        "toolbox.register(\"mate\", tools.cxTwoPoint)#二点交叉\n",
        "toolbox.register(\"mutate\", mutate)\n",
        "toolbox.register(\"evaluate\", fitness)#fitness function"
      ],
      "metadata": {
        "id": "xaYVGPtrkzEI"
      },
      "execution_count": 138,
      "outputs": []
    },
    {
      "cell_type": "code",
      "source": [
        "\n",
        "\n",
        "def main():\n",
        "  random.seed(7122)\n",
        "  pop = toolbox.population(n=300)\n",
        "  hof = tools.HallOfFame(10)\n",
        "\n",
        "  for ind in pop:\n",
        "      ind.fitness.values = toolbox.evaluate(ind)\n",
        "\n",
        "  stats = tools.Statistics(lambda ind: ind.fitness.values)#統計情報の収集\n",
        "  stats.register(\"avg\", lambda ind: sum(ind) / len(ind))\n",
        "  stats.register(\"min\", min)\n",
        "  stats.register(\"max\", max)\n",
        "\n",
        "  algorithms.eaSimple(pop, toolbox, cxpb=0.8, mutpb=0.01, ngen=50, halloffame=hof, verbose=True)\n",
        "  print(hof[0])"
      ],
      "metadata": {
        "id": "q9iLmprUEU2i"
      },
      "execution_count": 139,
      "outputs": []
    },
    {
      "cell_type": "code",
      "source": [
        "main()"
      ],
      "metadata": {
        "id": "rEXgVZ7EFTPV",
        "colab": {
          "base_uri": "https://localhost:8080/"
        },
        "outputId": "6a66df29-0ab9-47a0-ce60-80f1533e46c7"
      },
      "execution_count": 140,
      "outputs": [
        {
          "output_type": "stream",
          "name": "stdout",
          "text": [
            "gen\tnevals\n",
            "0  \t0     \n",
            "1  \t253   \n",
            "2  \t224   \n",
            "3  \t224   \n",
            "4  \t242   \n",
            "5  \t230   \n",
            "6  \t242   \n",
            "7  \t241   \n",
            "8  \t236   \n",
            "9  \t231   \n",
            "10 \t238   \n",
            "11 \t242   \n",
            "12 \t236   \n",
            "13 \t231   \n",
            "14 \t222   \n",
            "15 \t248   \n",
            "16 \t242   \n",
            "17 \t251   \n",
            "18 \t242   \n",
            "19 \t254   \n",
            "20 \t258   \n",
            "21 \t249   \n",
            "22 \t229   \n",
            "23 \t233   \n",
            "24 \t226   \n",
            "25 \t250   \n",
            "26 \t229   \n",
            "27 \t228   \n",
            "28 \t253   \n",
            "29 \t241   \n",
            "30 \t246   \n",
            "31 \t234   \n",
            "32 \t247   \n",
            "33 \t240   \n",
            "34 \t228   \n",
            "35 \t251   \n",
            "36 \t241   \n",
            "37 \t251   \n",
            "38 \t255   \n",
            "39 \t240   \n",
            "40 \t222   \n",
            "41 \t242   \n",
            "42 \t247   \n",
            "43 \t240   \n",
            "44 \t234   \n",
            "45 \t234   \n",
            "46 \t243   \n",
            "47 \t240   \n",
            "48 \t227   \n",
            "49 \t227   \n",
            "50 \t216   \n",
            "[4, 0, 5, 7, 3, 6, 5, 6]\n"
          ]
        }
      ]
    }
  ]
}